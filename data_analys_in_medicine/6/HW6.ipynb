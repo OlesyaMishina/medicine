{
 "cells": [
  {
   "cell_type": "markdown",
   "metadata": {
    "id": "ZCqSqRCpd8yx"
   },
   "source": [
    "#### Домашнее задание 6:\n",
    "\n",
    " John Snow Labs предоставляют простой и унифицированный API Python для обработки текстовых данных с помощью NLP на профессиональном уровне.\n",
    "\n",
    " Изучите одно из предлагаемых решений процессинга клинических данных по поиску именованных сущностей (NER).\n",
    "https://colab.research.google.com/github/JohnSnowLabs/spark-nlp-workshop/blob/master/tutorials/Certification_Trainings/Healthcare/1.Clinical_Named_Entity_Recognition_Model.ipynb\n",
    "\n",
    " Протестируйте распознавание моделью терминов на тексте из какой-либо статьи раздела Case Reports в PubMed NCBI."
   ]
  },
  {
   "cell_type": "markdown",
   "metadata": {
    "id": "oPZbXZYFtktA"
   },
   "source": [
    "Для работы John Snow Labs требуются лицензионные ключи с сайта https://www.johnsnowlabs.com\n",
    "\n",
    "Запрос на free trail был отправлен. Файл с ключами не был получен.\n",
    "\n",
    "Решение: протестировать обработку текстов с помощью другой модели - CRF."
   ]
  },
  {
   "cell_type": "markdown",
   "metadata": {
    "id": "dpe4sq80xUWL"
   },
   "source": [
    "Задача: Из текста медицинских статей необходимо выявить зависимости \"Заболевание - Лечение\". Создать таблицу для отображения заболеваний и соответствующего им лечения.\n",
    "\n"
   ]
  },
  {
   "cell_type": "markdown",
   "metadata": {
    "id": "Q8_UhC6zyNCK"
   },
   "source": [
    "Данные: обучающие и тестовые наборы данных\n",
    "\n",
    "* train_sent\n",
    "* test_sent\n",
    "* train_label\n",
    "* test_label\n",
    "\n",
    "В наборах данных с текстом (sent) находятся преложения из медицинских статей.\n",
    "\n",
    "В наборе данных с метками (label) находятся три метки: O, D и T, которые соответствуют ‘Другому’, ‘Заболеванию’ и ‘Лечению’ соответственно. Эти метки соответствуют каждому слову, доступному в наборах данных ‘train_sent’ и 'test_sent'.\n",
    "\n",
    "Таким образом, существует взаимно однозначное сопоставление каждой метки, доступной в наборах данных 'train_label' и 'test_label', со словами, которые доступны в наборах данных 'train_sent' и 'test_sent' соответственно."
   ]
  },
  {
   "cell_type": "markdown",
   "metadata": {
    "id": "I20czBG7eMX2"
   },
   "source": [
    "## Colab Setup"
   ]
  },
  {
   "cell_type": "code",
   "execution_count": null,
   "metadata": {
    "colab": {
     "base_uri": "https://localhost:8080/"
    },
    "id": "u8IzqbuleTLg",
    "outputId": "7b809673-10d7-46c3-fba8-a1a50ccbe4fb"
   },
   "outputs": [
    {
     "name": "stdout",
     "output_type": "stream",
     "text": [
      "Collecting pycrf\n",
      "  Downloading pycrf-0.0.1.tar.gz (1.1 kB)\n",
      "  Preparing metadata (setup.py) ... \u001b[?25l\u001b[?25hdone\n",
      "Building wheels for collected packages: pycrf\n",
      "  Building wheel for pycrf (setup.py) ... \u001b[?25l\u001b[?25hdone\n",
      "  Created wheel for pycrf: filename=pycrf-0.0.1-py3-none-any.whl size=1869 sha256=3b7eac50440b88d2b6165aa4c2596a3f8e258b9d1be2a7a54d28903ffb6bcf71\n",
      "  Stored in directory: /root/.cache/pip/wheels/fd/3a/fb/e4d15c9c2b169f43811b23a863ee9717ff3eda5d2301789043\n",
      "Successfully built pycrf\n",
      "Installing collected packages: pycrf\n",
      "Successfully installed pycrf-0.0.1\n",
      "Collecting sklearn-crfsuite\n",
      "  Downloading sklearn_crfsuite-0.3.6-py2.py3-none-any.whl (12 kB)\n",
      "Collecting python-crfsuite>=0.8.3 (from sklearn-crfsuite)\n",
      "  Downloading python_crfsuite-0.9.10-cp310-cp310-manylinux_2_17_x86_64.manylinux2014_x86_64.whl (1.1 MB)\n",
      "\u001b[2K     \u001b[90m━━━━━━━━━━━━━━━━━━━━━━━━━━━━━━━━━━━━━━━━\u001b[0m \u001b[32m1.1/1.1 MB\u001b[0m \u001b[31m5.3 MB/s\u001b[0m eta \u001b[36m0:00:00\u001b[0m\n",
      "\u001b[?25hRequirement already satisfied: six in /usr/local/lib/python3.10/dist-packages (from sklearn-crfsuite) (1.16.0)\n",
      "Requirement already satisfied: tabulate in /usr/local/lib/python3.10/dist-packages (from sklearn-crfsuite) (0.9.0)\n",
      "Requirement already satisfied: tqdm>=2.0 in /usr/local/lib/python3.10/dist-packages (from sklearn-crfsuite) (4.66.2)\n",
      "Installing collected packages: python-crfsuite, sklearn-crfsuite\n",
      "Successfully installed python-crfsuite-0.9.10 sklearn-crfsuite-0.3.6\n"
     ]
    }
   ],
   "source": [
    "!pip install pycrf\n",
    "!pip install sklearn-crfsuite\n",
    "\n",
    "import spacy\n",
    "import sklearn_crfsuite\n",
    "import pandas as pd\n",
    "from sklearn_crfsuite import metrics\n",
    "from collections import Counter\n",
    "model = spacy.load(\"en_core_web_sm\")"
   ]
  },
  {
   "cell_type": "code",
   "execution_count": null,
   "metadata": {
    "colab": {
     "base_uri": "https://localhost:8080/"
    },
    "id": "0o0f3SFH6ivy",
    "outputId": "030f18f1-c3c9-41e1-98ca-3b6e02442e84"
   },
   "outputs": [
    {
     "name": "stdout",
     "output_type": "stream",
     "text": [
      "Mounted at /content/drive\n"
     ]
    }
   ],
   "source": [
    "from google.colab import drive\n",
    "drive.mount('/content/drive')"
   ]
  },
  {
   "cell_type": "markdown",
   "metadata": {
    "id": "ZBSXRT1L0mvp"
   },
   "source": [
    "Обработка данных"
   ]
  },
  {
   "cell_type": "code",
   "execution_count": null,
   "metadata": {
    "id": "dawj7XlPwvgl"
   },
   "outputs": [],
   "source": [
    "def data_preproc(path) :\n",
    "  with open(path) as file_hd :\n",
    "    list_sent = file_hd.read().split(\"\\n\\n\")\n",
    "  sentences = [sent.replace(\"\\n\", \" \") for sent in list_sent]\n",
    "  return sentences"
   ]
  },
  {
   "cell_type": "code",
   "execution_count": null,
   "metadata": {
    "id": "QcYCYDNs4S7V"
   },
   "outputs": [],
   "source": [
    "train_sentences = data_preproc(\"/content/drive/MyDrive/Анализ данных в медицине/пробы/train_sent.txt\")\n",
    "train_labels = data_preproc(\"/content/drive/MyDrive/Анализ данных в медицине/пробы/train_label.txt\")\n",
    "test_sentences = data_preproc(\"/content/drive/MyDrive/Анализ данных в медицине/пробы/test_sent.txt\")\n",
    "test_labels = data_preproc(\"/content/drive/MyDrive/Анализ данных в медицине/пробы/test_label.txt\")\n"
   ]
  },
  {
   "cell_type": "code",
   "execution_count": null,
   "metadata": {
    "colab": {
     "base_uri": "https://localhost:8080/"
    },
    "id": "F6MtkdMcwvO7",
    "outputId": "5a71294a-4a28-47dc-9fb2-d56a426b95ad"
   },
   "outputs": [
    {
     "name": "stdout",
     "output_type": "stream",
     "text": [
      "['All live births > or = 23 weeks at the University of Vermont in 1995 ( n = 2395 ) were retrospectively analyzed for delivery route , indication for cesarean , gestational age , parity , and practice group ( to reflect risk status )', 'The total cesarean rate was 14.4 % ( 344 of 2395 ) , and the primary rate was 11.4 % ( 244 of 2144 )', 'Abnormal presentation was the most common indication ( 25.6 % , 88 of 344 )', \"The `` corrected '' cesarean rate ( maternal-fetal medicine and transported patients excluded ) was 12.4 % ( 273 of 2194 ) , and the `` corrected '' primary rate was 9.6 % ( 190 of 1975 )\", \"Arrest of dilation was the most common indication in both `` corrected '' subgroups ( 23.4 and 24.6 % , respectively )\"]\n",
      "['O O O O O O O O O O O O O O O O O O O O O O O O O O O O O O O O O O O O O O O O O O O O O', 'O O O O O O O O O O O O O O O O O O O O O O O O O', 'O O O O O O O O O O O O O O O', 'O O O O O O O O O O O O O O O O O O O O O O O O O O O O O O O O O O O O O O', 'O O O O O O O O O O O O O O O O O O O O O O']\n",
      "['Furthermore , when all deliveries were analyzed , regardless of risk status but limited to gestational age > or = 36 weeks , the rates did not change ( 12.6 % , 280 of 2214 ; primary 9.2 % , 183 of 1994 )', 'As the ambient temperature increases , there is an increase in insensible fluid loss and the potential for dehydration', 'The daily high temperature ranged from 71 to 104 degrees F and AFI values ranged from 1.7 to 24.7 cm during the study period', 'There was a significant correlation between the 2- , 3- , and 4-day mean temperature and AFI , with the 4-day mean being the most significant ( r = 0.31 , p & # 60 ; 0.001 )', 'Fluctuations in ambient temperature are inversely correlated to changes in AFI']\n",
      "['O O O O O O O O O O O O O O O O O O O O O O O O O O O O O O O O O O O O O O O O O O O O', 'O O O O O O O O O O O O O O O O O O O', 'O O O O O O O O O O O O O O O O O O O O O O O O', 'O O O O O O O O O O O O O O O O O O O O O O O O O O O O O O O O O O O O O O', 'O O O O O O O O O O O']\n"
     ]
    }
   ],
   "source": [
    "print(train_sentences[:5])\n",
    "print(train_labels[:5])\n",
    "print(test_sentences[:5])\n",
    "print(test_labels[:5])"
   ]
  },
  {
   "cell_type": "code",
   "execution_count": null,
   "metadata": {
    "colab": {
     "base_uri": "https://localhost:8080/"
    },
    "id": "nmF0EbIa7rnR",
    "outputId": "1f432888-5218-4d18-e0d6-038e4aecaa2a"
   },
   "outputs": [
    {
     "name": "stdout",
     "output_type": "stream",
     "text": [
      "2600\n",
      "1057\n"
     ]
    }
   ],
   "source": [
    "print(len(train_sentences))\n",
    "print(len(test_sentences))"
   ]
  },
  {
   "cell_type": "code",
   "execution_count": null,
   "metadata": {
    "colab": {
     "base_uri": "https://localhost:8080/"
    },
    "id": "CDCsdvga7rk5",
    "outputId": "f0beb9b0-06cd-4aa1-b71b-fdf24f62ee8c"
   },
   "outputs": [
    {
     "name": "stdout",
     "output_type": "stream",
     "text": [
      "2600\n",
      "1057\n"
     ]
    }
   ],
   "source": [
    "print(len(train_labels))\n",
    "print(len(test_labels))"
   ]
  },
  {
   "cell_type": "markdown",
   "metadata": {
    "id": "es566vfL1trj"
   },
   "source": [
    "POS-тегирование\n",
    "\n",
    "Поиск NOUN и PROPN"
   ]
  },
  {
   "cell_type": "code",
   "execution_count": null,
   "metadata": {
    "id": "vEo00jx37rit"
   },
   "outputs": [],
   "source": [
    "noun_propn = []\n",
    "for sent in (train_sentences + test_sentences) :\n",
    "  doc = model(sent.lower())\n",
    "  for token in doc :\n",
    "    if token.pos_ in [\"NOUN\", \"PROPN\"] :\n",
    "      noun_propn.append(token.text)\n",
    "freq_dist = Counter(noun_propn)"
   ]
  },
  {
   "cell_type": "markdown",
   "metadata": {
    "id": "Y3aNIp2m3C3f"
   },
   "source": [
    "25 наиболее распространенных токенов с тегами NOUN или PROP"
   ]
  },
  {
   "cell_type": "code",
   "execution_count": null,
   "metadata": {
    "colab": {
     "base_uri": "https://localhost:8080/"
    },
    "id": "Q76z1OSh7rgU",
    "outputId": "6de44db8-868d-4cbd-90d6-689e03090379"
   },
   "outputs": [
    {
     "name": "stdout",
     "output_type": "stream",
     "text": [
      "[('patients', 507), ('treatment', 304), ('%', 247), ('cancer', 211), ('therapy', 177), ('study', 174), ('disease', 151), ('cell', 142), ('lung', 118), ('results', 117), ('group', 111), ('effects', 99), ('gene', 92), ('chemotherapy', 91), ('use', 88), ('effect', 82), ('women', 81), ('analysis', 76), ('risk', 74), ('surgery', 73), ('cases', 72), ('p', 72), ('rate', 68), ('survival', 67), ('response', 66)]\n"
     ]
    }
   ],
   "source": [
    "print(freq_dist.most_common(25))"
   ]
  },
  {
   "cell_type": "markdown",
   "metadata": {
    "id": "dbyr4RTH33SC"
   },
   "source": [
    "Определение признаков для одного слова"
   ]
  },
  {
   "cell_type": "code",
   "execution_count": null,
   "metadata": {
    "id": "En3EGmi78J0m"
   },
   "outputs": [],
   "source": [
    "def getFeaturesForOneWord(sentence, pos, tokens) :\n",
    "\n",
    "  word = sentence[pos].lower()\n",
    "  word_pos_tag = tokens[pos].pos_\n",
    "  features = [\"word = \" + word,\n",
    "              \"word_POS_tag = \" + word_pos_tag,\n",
    "              \"word[-3:] = \" + word[-3:],\n",
    "              \"word[-2:] = \" + word[-2:],\n",
    "              \"word_length = %s\" % len(word)\n",
    "  ]\n",
    "\n",
    "  if pos > 0 :\n",
    "\n",
    "    prev_word = sentence[pos-1]\n",
    "    prev_word_pos_tag = tokens[pos-1].pos_\n",
    "    features.append(\"prev_word = \" + prev_word)\n",
    "    features.append(\"prev_word_POS_tag = \" + prev_word_pos_tag)\n",
    "    features.append(\"prev_word_length = %s\" % len(prev_word))\n",
    "\n",
    "  else :\n",
    "    features.append(\"BEG\")\n",
    "\n",
    "  if pos == len(sentence) - 1 :\n",
    "    features.append(\"END\")\n",
    "\n",
    "  return features"
   ]
  },
  {
   "cell_type": "markdown",
   "metadata": {
    "id": "g7dZFy5h4JNe"
   },
   "source": [
    "Определение признаков предложения"
   ]
  },
  {
   "cell_type": "code",
   "execution_count": null,
   "metadata": {
    "id": "1VaVGg658Jyx"
   },
   "outputs": [],
   "source": [
    "def getFeaturesForOneSentence(sentence) :\n",
    "  tokens = model(sentence)\n",
    "  sentence = sentence.split()\n",
    "  return [getFeaturesForOneWord(sentence, pos, tokens) for pos in range(len(sentence))]"
   ]
  },
  {
   "cell_type": "markdown",
   "metadata": {
    "id": "ClibMZbP4e83"
   },
   "source": [
    "Определение меток предложения"
   ]
  },
  {
   "cell_type": "code",
   "execution_count": null,
   "metadata": {
    "id": "5O6X0I4b8Jv4"
   },
   "outputs": [],
   "source": [
    "def getLabelsForOneSentence(labels) :\n",
    "  labels = labels.split()\n",
    "  return labels"
   ]
  },
  {
   "cell_type": "markdown",
   "metadata": {
    "id": "LkrbPcKs4zpX"
   },
   "source": [
    "X_Y_train_test разделение"
   ]
  },
  {
   "cell_type": "code",
   "execution_count": null,
   "metadata": {
    "id": "7gPnIErX8Js4"
   },
   "outputs": [],
   "source": [
    "X_train = [getFeaturesForOneSentence(sentence) for sentence in train_sentences]\n",
    "X_test = [getFeaturesForOneSentence(sentence) for sentence in test_sentences]"
   ]
  },
  {
   "cell_type": "code",
   "execution_count": null,
   "metadata": {
    "id": "3hIdxLG68Jpy"
   },
   "outputs": [],
   "source": [
    "Y_train = [getLabelsForOneSentence(labels) for labels in train_labels]\n",
    "Y_test = [getLabelsForOneSentence(labels) for labels in test_labels]"
   ]
  },
  {
   "cell_type": "markdown",
   "metadata": {
    "id": "wIOzBktG5Cz-"
   },
   "source": [
    "Построение модели"
   ]
  },
  {
   "cell_type": "code",
   "execution_count": null,
   "metadata": {
    "id": "DtB-e_S97rd6"
   },
   "outputs": [],
   "source": [
    "crf_model = sklearn_crfsuite.CRF(max_iterations=100)\n",
    "try:\n",
    "  crf_model.fit(X_train, Y_train)\n",
    "except AttributeError:\n",
    "  pass"
   ]
  },
  {
   "cell_type": "code",
   "execution_count": null,
   "metadata": {
    "id": "IGph0sNL7ra8"
   },
   "outputs": [],
   "source": [
    "Y_pred = crf_model.predict(X_test)"
   ]
  },
  {
   "cell_type": "markdown",
   "metadata": {
    "id": "bykLyXOy5YKz"
   },
   "source": [
    "f1_score"
   ]
  },
  {
   "cell_type": "code",
   "execution_count": null,
   "metadata": {
    "colab": {
     "base_uri": "https://localhost:8080/"
    },
    "id": "AF7z_-ZsEBFl",
    "outputId": "5c2028e7-bcff-404b-e022-b562929d1d50"
   },
   "outputs": [
    {
     "data": {
      "text/plain": [
       "0.9126604386056725"
      ]
     },
     "execution_count": 24,
     "metadata": {},
     "output_type": "execute_result"
    }
   ],
   "source": [
    "metrics.flat_f1_score(Y_test, Y_pred, average = \"weighted\")"
   ]
  },
  {
   "cell_type": "markdown",
   "metadata": {
    "id": "xb2MY2W36a46"
   },
   "source": [
    "Прогноз модели для сопоставления заболевания и лечения."
   ]
  },
  {
   "cell_type": "code",
   "execution_count": null,
   "metadata": {
    "id": "eNVG7xijEBZG"
   },
   "outputs": [],
   "source": [
    "def D_T_identification(pos) :\n",
    "  label_seq = Y_pred[pos]\n",
    "  disease_idx = []\n",
    "  treatment_idx = []\n",
    "  for idx, label in enumerate(label_seq) :\n",
    "    if label == \"D\" :\n",
    "      disease_idx.append(idx)\n",
    "\n",
    "    if label == \"T\" :\n",
    "      treatment_idx.append(idx)\n",
    "\n",
    "  return disease_idx, treatment_idx"
   ]
  },
  {
   "cell_type": "code",
   "execution_count": null,
   "metadata": {
    "colab": {
     "base_uri": "https://localhost:8080/",
     "height": 679
    },
    "id": "mB-P6ByGEBcE",
    "outputId": "d81063a2-aef8-4d61-d129-821aa1ded02d"
   },
   "outputs": [
    {
     "data": {
      "application/vnd.google.colaboratory.intrinsic+json": {
       "summary": "{\n  \"name\": \"records\",\n  \"rows\": 121,\n  \"fields\": [\n    {\n      \"column\": \"Disease\",\n      \"properties\": {\n        \"dtype\": \"string\",\n        \"num_unique_values\": 121,\n        \"samples\": [\n          \"hairy cell leukemia\",\n          \"hepatic metastases from colorectal cancer\",\n          \"abdominal pain\"\n        ],\n        \"semantic_type\": \"\",\n        \"description\": \"\"\n      }\n    },\n    {\n      \"column\": \"Treatment\",\n      \"properties\": {\n        \"dtype\": \"string\",\n        \"num_unique_values\": 115,\n        \"samples\": [\n          \"intrauterine insemination with donor sperm versus intrauterine insemination\",\n          \"thoracic paravertebral block ( tpvb )\",\n          \"surgical treatment\"\n        ],\n        \"semantic_type\": \"\",\n        \"description\": \"\"\n      }\n    }\n  ]\n}",
       "type": "dataframe",
       "variable_name": "records"
      },
      "text/html": [
       "\n",
       "  <div id=\"df-2227da85-5960-47e4-817f-1064867ae800\" class=\"colab-df-container\">\n",
       "    <div>\n",
       "<style scoped>\n",
       "    .dataframe tbody tr th:only-of-type {\n",
       "        vertical-align: middle;\n",
       "    }\n",
       "\n",
       "    .dataframe tbody tr th {\n",
       "        vertical-align: top;\n",
       "    }\n",
       "\n",
       "    .dataframe thead th {\n",
       "        text-align: right;\n",
       "    }\n",
       "</style>\n",
       "<table border=\"1\" class=\"dataframe\">\n",
       "  <thead>\n",
       "    <tr style=\"text-align: right;\">\n",
       "      <th></th>\n",
       "      <th>Disease</th>\n",
       "      <th>Treatment</th>\n",
       "    </tr>\n",
       "  </thead>\n",
       "  <tbody>\n",
       "    <tr>\n",
       "      <th>0</th>\n",
       "      <td>B16 melanoma</td>\n",
       "      <td>adenosine triphosphate buthionine sulfoximine</td>\n",
       "    </tr>\n",
       "    <tr>\n",
       "      <th>1</th>\n",
       "      <td>Barrett 's esophagus</td>\n",
       "      <td>Acid suppression therapy</td>\n",
       "    </tr>\n",
       "    <tr>\n",
       "      <th>2</th>\n",
       "      <td>Eisenmenger 's syndrome</td>\n",
       "      <td>laparoscopic cholecystectomy</td>\n",
       "    </tr>\n",
       "    <tr>\n",
       "      <th>3</th>\n",
       "      <td>Parkinson 's disease</td>\n",
       "      <td>Microelectrode-guided posteroventral pallidotomy</td>\n",
       "    </tr>\n",
       "    <tr>\n",
       "      <th>4</th>\n",
       "      <td>abdominal pain</td>\n",
       "      <td>thoracic paravertebral block ( tpvb )</td>\n",
       "    </tr>\n",
       "    <tr>\n",
       "      <th>...</th>\n",
       "      <td>...</td>\n",
       "      <td>...</td>\n",
       "    </tr>\n",
       "    <tr>\n",
       "      <th>116</th>\n",
       "      <td>tumors</td>\n",
       "      <td>Immunotherapy</td>\n",
       "    </tr>\n",
       "    <tr>\n",
       "      <th>117</th>\n",
       "      <td>unresectable stage iii nsclc</td>\n",
       "      <td>sequential chemotherapy</td>\n",
       "    </tr>\n",
       "    <tr>\n",
       "      <th>118</th>\n",
       "      <td>unstable angina or non-Q-wave myocardial infar...</td>\n",
       "      <td>roxithromycin</td>\n",
       "    </tr>\n",
       "    <tr>\n",
       "      <th>119</th>\n",
       "      <td>untreated small cell lung cancer ( sclc ) sclc</td>\n",
       "      <td>chemotherapy</td>\n",
       "    </tr>\n",
       "    <tr>\n",
       "      <th>120</th>\n",
       "      <td>ventricular tachycardia</td>\n",
       "      <td>surgical therapy</td>\n",
       "    </tr>\n",
       "  </tbody>\n",
       "</table>\n",
       "<p>121 rows × 2 columns</p>\n",
       "</div>\n",
       "    <div class=\"colab-df-buttons\">\n",
       "\n",
       "  <div class=\"colab-df-container\">\n",
       "    <button class=\"colab-df-convert\" onclick=\"convertToInteractive('df-2227da85-5960-47e4-817f-1064867ae800')\"\n",
       "            title=\"Convert this dataframe to an interactive table.\"\n",
       "            style=\"display:none;\">\n",
       "\n",
       "  <svg xmlns=\"http://www.w3.org/2000/svg\" height=\"24px\" viewBox=\"0 -960 960 960\">\n",
       "    <path d=\"M120-120v-720h720v720H120Zm60-500h600v-160H180v160Zm220 220h160v-160H400v160Zm0 220h160v-160H400v160ZM180-400h160v-160H180v160Zm440 0h160v-160H620v160ZM180-180h160v-160H180v160Zm440 0h160v-160H620v160Z\"/>\n",
       "  </svg>\n",
       "    </button>\n",
       "\n",
       "  <style>\n",
       "    .colab-df-container {\n",
       "      display:flex;\n",
       "      gap: 12px;\n",
       "    }\n",
       "\n",
       "    .colab-df-convert {\n",
       "      background-color: #E8F0FE;\n",
       "      border: none;\n",
       "      border-radius: 50%;\n",
       "      cursor: pointer;\n",
       "      display: none;\n",
       "      fill: #1967D2;\n",
       "      height: 32px;\n",
       "      padding: 0 0 0 0;\n",
       "      width: 32px;\n",
       "    }\n",
       "\n",
       "    .colab-df-convert:hover {\n",
       "      background-color: #E2EBFA;\n",
       "      box-shadow: 0px 1px 2px rgba(60, 64, 67, 0.3), 0px 1px 3px 1px rgba(60, 64, 67, 0.15);\n",
       "      fill: #174EA6;\n",
       "    }\n",
       "\n",
       "    .colab-df-buttons div {\n",
       "      margin-bottom: 4px;\n",
       "    }\n",
       "\n",
       "    [theme=dark] .colab-df-convert {\n",
       "      background-color: #3B4455;\n",
       "      fill: #D2E3FC;\n",
       "    }\n",
       "\n",
       "    [theme=dark] .colab-df-convert:hover {\n",
       "      background-color: #434B5C;\n",
       "      box-shadow: 0px 1px 3px 1px rgba(0, 0, 0, 0.15);\n",
       "      filter: drop-shadow(0px 1px 2px rgba(0, 0, 0, 0.3));\n",
       "      fill: #FFFFFF;\n",
       "    }\n",
       "  </style>\n",
       "\n",
       "    <script>\n",
       "      const buttonEl =\n",
       "        document.querySelector('#df-2227da85-5960-47e4-817f-1064867ae800 button.colab-df-convert');\n",
       "      buttonEl.style.display =\n",
       "        google.colab.kernel.accessAllowed ? 'block' : 'none';\n",
       "\n",
       "      async function convertToInteractive(key) {\n",
       "        const element = document.querySelector('#df-2227da85-5960-47e4-817f-1064867ae800');\n",
       "        const dataTable =\n",
       "          await google.colab.kernel.invokeFunction('convertToInteractive',\n",
       "                                                    [key], {});\n",
       "        if (!dataTable) return;\n",
       "\n",
       "        const docLinkHtml = 'Like what you see? Visit the ' +\n",
       "          '<a target=\"_blank\" href=https://colab.research.google.com/notebooks/data_table.ipynb>data table notebook</a>'\n",
       "          + ' to learn more about interactive tables.';\n",
       "        element.innerHTML = '';\n",
       "        dataTable['output_type'] = 'display_data';\n",
       "        await google.colab.output.renderOutput(dataTable, element);\n",
       "        const docLink = document.createElement('div');\n",
       "        docLink.innerHTML = docLinkHtml;\n",
       "        element.appendChild(docLink);\n",
       "      }\n",
       "    </script>\n",
       "  </div>\n",
       "\n",
       "\n",
       "<div id=\"df-1fe45a9a-51b1-496c-87e2-9d0ff3d37250\">\n",
       "  <button class=\"colab-df-quickchart\" onclick=\"quickchart('df-1fe45a9a-51b1-496c-87e2-9d0ff3d37250')\"\n",
       "            title=\"Suggest charts\"\n",
       "            style=\"display:none;\">\n",
       "\n",
       "<svg xmlns=\"http://www.w3.org/2000/svg\" height=\"24px\"viewBox=\"0 0 24 24\"\n",
       "     width=\"24px\">\n",
       "    <g>\n",
       "        <path d=\"M19 3H5c-1.1 0-2 .9-2 2v14c0 1.1.9 2 2 2h14c1.1 0 2-.9 2-2V5c0-1.1-.9-2-2-2zM9 17H7v-7h2v7zm4 0h-2V7h2v10zm4 0h-2v-4h2v4z\"/>\n",
       "    </g>\n",
       "</svg>\n",
       "  </button>\n",
       "\n",
       "<style>\n",
       "  .colab-df-quickchart {\n",
       "      --bg-color: #E8F0FE;\n",
       "      --fill-color: #1967D2;\n",
       "      --hover-bg-color: #E2EBFA;\n",
       "      --hover-fill-color: #174EA6;\n",
       "      --disabled-fill-color: #AAA;\n",
       "      --disabled-bg-color: #DDD;\n",
       "  }\n",
       "\n",
       "  [theme=dark] .colab-df-quickchart {\n",
       "      --bg-color: #3B4455;\n",
       "      --fill-color: #D2E3FC;\n",
       "      --hover-bg-color: #434B5C;\n",
       "      --hover-fill-color: #FFFFFF;\n",
       "      --disabled-bg-color: #3B4455;\n",
       "      --disabled-fill-color: #666;\n",
       "  }\n",
       "\n",
       "  .colab-df-quickchart {\n",
       "    background-color: var(--bg-color);\n",
       "    border: none;\n",
       "    border-radius: 50%;\n",
       "    cursor: pointer;\n",
       "    display: none;\n",
       "    fill: var(--fill-color);\n",
       "    height: 32px;\n",
       "    padding: 0;\n",
       "    width: 32px;\n",
       "  }\n",
       "\n",
       "  .colab-df-quickchart:hover {\n",
       "    background-color: var(--hover-bg-color);\n",
       "    box-shadow: 0 1px 2px rgba(60, 64, 67, 0.3), 0 1px 3px 1px rgba(60, 64, 67, 0.15);\n",
       "    fill: var(--button-hover-fill-color);\n",
       "  }\n",
       "\n",
       "  .colab-df-quickchart-complete:disabled,\n",
       "  .colab-df-quickchart-complete:disabled:hover {\n",
       "    background-color: var(--disabled-bg-color);\n",
       "    fill: var(--disabled-fill-color);\n",
       "    box-shadow: none;\n",
       "  }\n",
       "\n",
       "  .colab-df-spinner {\n",
       "    border: 2px solid var(--fill-color);\n",
       "    border-color: transparent;\n",
       "    border-bottom-color: var(--fill-color);\n",
       "    animation:\n",
       "      spin 1s steps(1) infinite;\n",
       "  }\n",
       "\n",
       "  @keyframes spin {\n",
       "    0% {\n",
       "      border-color: transparent;\n",
       "      border-bottom-color: var(--fill-color);\n",
       "      border-left-color: var(--fill-color);\n",
       "    }\n",
       "    20% {\n",
       "      border-color: transparent;\n",
       "      border-left-color: var(--fill-color);\n",
       "      border-top-color: var(--fill-color);\n",
       "    }\n",
       "    30% {\n",
       "      border-color: transparent;\n",
       "      border-left-color: var(--fill-color);\n",
       "      border-top-color: var(--fill-color);\n",
       "      border-right-color: var(--fill-color);\n",
       "    }\n",
       "    40% {\n",
       "      border-color: transparent;\n",
       "      border-right-color: var(--fill-color);\n",
       "      border-top-color: var(--fill-color);\n",
       "    }\n",
       "    60% {\n",
       "      border-color: transparent;\n",
       "      border-right-color: var(--fill-color);\n",
       "    }\n",
       "    80% {\n",
       "      border-color: transparent;\n",
       "      border-right-color: var(--fill-color);\n",
       "      border-bottom-color: var(--fill-color);\n",
       "    }\n",
       "    90% {\n",
       "      border-color: transparent;\n",
       "      border-bottom-color: var(--fill-color);\n",
       "    }\n",
       "  }\n",
       "</style>\n",
       "\n",
       "  <script>\n",
       "    async function quickchart(key) {\n",
       "      const quickchartButtonEl =\n",
       "        document.querySelector('#' + key + ' button');\n",
       "      quickchartButtonEl.disabled = true;  // To prevent multiple clicks.\n",
       "      quickchartButtonEl.classList.add('colab-df-spinner');\n",
       "      try {\n",
       "        const charts = await google.colab.kernel.invokeFunction(\n",
       "            'suggestCharts', [key], {});\n",
       "      } catch (error) {\n",
       "        console.error('Error during call to suggestCharts:', error);\n",
       "      }\n",
       "      quickchartButtonEl.classList.remove('colab-df-spinner');\n",
       "      quickchartButtonEl.classList.add('colab-df-quickchart-complete');\n",
       "    }\n",
       "    (() => {\n",
       "      let quickchartButtonEl =\n",
       "        document.querySelector('#df-1fe45a9a-51b1-496c-87e2-9d0ff3d37250 button');\n",
       "      quickchartButtonEl.style.display =\n",
       "        google.colab.kernel.accessAllowed ? 'block' : 'none';\n",
       "    })();\n",
       "  </script>\n",
       "</div>\n",
       "    </div>\n",
       "  </div>\n"
      ],
      "text/plain": [
       "                                               Disease  \\\n",
       "0                                         B16 melanoma   \n",
       "1                                 Barrett 's esophagus   \n",
       "2                              Eisenmenger 's syndrome   \n",
       "3                                 Parkinson 's disease   \n",
       "4                                       abdominal pain   \n",
       "..                                                 ...   \n",
       "116                                             tumors   \n",
       "117                       unresectable stage iii nsclc   \n",
       "118  unstable angina or non-Q-wave myocardial infar...   \n",
       "119     untreated small cell lung cancer ( sclc ) sclc   \n",
       "120                            ventricular tachycardia   \n",
       "\n",
       "                                            Treatment  \n",
       "0       adenosine triphosphate buthionine sulfoximine  \n",
       "1                            Acid suppression therapy  \n",
       "2                        laparoscopic cholecystectomy  \n",
       "3    Microelectrode-guided posteroventral pallidotomy  \n",
       "4               thoracic paravertebral block ( tpvb )  \n",
       "..                                                ...  \n",
       "116                                     Immunotherapy  \n",
       "117                           sequential chemotherapy  \n",
       "118                                     roxithromycin  \n",
       "119                                      chemotherapy  \n",
       "120                                  surgical therapy  \n",
       "\n",
       "[121 rows x 2 columns]"
      ]
     },
     "execution_count": 26,
     "metadata": {},
     "output_type": "execute_result"
    }
   ],
   "source": [
    "\n",
    "diseases = []\n",
    "treatments = []\n",
    "records = pd.DataFrame(columns = [\"Disease\", \"Treatment\"])\n",
    "for id, sent in enumerate(test_sentences) :\n",
    "  sent = sent.split()\n",
    "  disease_idx, treatments_idx = D_T_identification(id)\n",
    "  if len(disease_idx) > 0 and len(treatments_idx) > 0 :\n",
    "    # records[\" \".join([sent[idx] for idx in disease_idx])] = \" \".join([sent[idx] for idx in treatments_idx])\n",
    "    diseases.append(\" \".join([sent[idx] for id, idx in enumerate(disease_idx) if id == 0 or idx == disease_idx[id-1] + 1]))\n",
    "    treatments.append(\" \".join([sent[idx] for idx in treatments_idx]))\n",
    "records[\"Disease\"] = diseases\n",
    "records[\"Treatment\"] = treatments\n",
    "records[\"Treatment\"] = records[\"Treatment\"].apply(lambda x : x.replace(\"and\", \",\").replace(\", ,\", \",\"))\n",
    "records = records.groupby(\"Disease\")[\"Treatment\"].apply(\", \".join).reset_index()\n",
    "records"
   ]
  }
 ],
 "metadata": {
  "accelerator": "GPU",
  "colab": {
   "gpuType": "T4",
   "provenance": []
  },
  "kernelspec": {
   "display_name": "Python 3 (ipykernel)",
   "language": "python",
   "name": "python3"
  },
  "language_info": {
   "codemirror_mode": {
    "name": "ipython",
    "version": 3
   },
   "file_extension": ".py",
   "mimetype": "text/x-python",
   "name": "python",
   "nbconvert_exporter": "python",
   "pygments_lexer": "ipython3",
   "version": "3.11.7"
  }
 },
 "nbformat": 4,
 "nbformat_minor": 4
}
